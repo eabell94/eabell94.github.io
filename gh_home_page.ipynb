{
 "cells": [
  {
   "cell_type": "markdown",
   "metadata": {},
   "source": [
    "## About Me\n",
    "\n",
    "My name is Ethan Bell and I am a 5th year undergraduate student majoring in Applied Statistics with an emphasis in Managerial Economics attending the Univeristy of California, Davis. I am proficient with R and have experience with C, Rust, and Python. In addition I also have experience using SQL through the R and Python languages and limited familiarity in SAS. In Python I have used the numpy, pandas, seaborn, basemap, sqlite3, and matplotlib packages to visualize and analyze data from a variety of sources. I have worked for two years in operations in guest services for the UC Davis Bookstore, with one duty being the providing of insight with regards to purchasing trends in the store in an effort to improve sales. My interests stem from a intrigue in the identification and visualization of trends within data sets to answer a wide range of questions. In particular, I am interested in data that relate to the following:\n",
    "\n",
    "* Sports\n",
    "* Business\n",
    "* Finance\n",
    "* Population behavior in metropolitan areas\n",
    "* Any subject relating to my native state of California\n",
    "* Demographic shifts and population densities within the city of Los Angeles.\n",
    "\n",
    "* * *\n",
    "## Coursework\n",
    "\n",
    "#### Statistics\n",
    "* Regression Analysis\n",
    "* Analysis of Variance\n",
    "* Nonparametric Statistics\n",
    "* Bayesian Statistal Inference\n",
    "* Statistical Computing\n",
    "* Applied Time Series Analysis\n",
    "* Analysis of Categorical Data\n",
    "* Statistics and Data Technologies\n",
    "\n",
    "#### Economics\n",
    "* Intermediate Microeconomics\n",
    "* Intermediate Macro Economics\n",
    "* Econometrics\n",
    "* Personal Finance\n",
    "* Operation Resources and Management Science\n",
    "\n",
    "* * *\n",
    "#### 141B Statistical Projects\n",
    "\n",
    "[Project 1](link1)\n",
    "\n",
    "[Project 2](link2)\n",
    "\n",
    "[Project 3](link3)"
   ]
  }
 ],
 "metadata": {
  "anaconda-cloud": {},
  "kernelspec": {
   "display_name": "Python [conda root]",
   "language": "python",
   "name": "conda-root-py"
  },
  "language_info": {
   "codemirror_mode": {
    "name": "ipython",
    "version": 2
   },
   "file_extension": ".py",
   "mimetype": "text/x-python",
   "name": "python",
   "nbconvert_exporter": "python",
   "pygments_lexer": "ipython2",
   "version": "2.7.12"
  }
 },
 "nbformat": 4,
 "nbformat_minor": 1
}
